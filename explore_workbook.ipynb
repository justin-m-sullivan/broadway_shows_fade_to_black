{
 "cells": [
  {
   "cell_type": "markdown",
   "metadata": {},
   "source": [
    "# Exploration Notebook"
   ]
  },
  {
   "cell_type": "code",
   "execution_count": 1,
   "metadata": {},
   "outputs": [],
   "source": [
    "import pandas as pd\n",
    "import numpy as np\n",
    "import acquire\n",
    "import prepare\n",
    "import explore\n",
    "import evaluate\n",
    "\n",
    "#Sklearn Tools and Modules\n",
    "from sklearn.cluster import KMeans\n",
    "from sklearn.preprocessing import MinMaxScaler, RobustScaler\n",
    "from sklearn.model_selection import train_test_split\n",
    "from sklearn.preprocessing import MinMaxScaler, RobustScaler\n",
    "from sklearn.linear_model import LinearRegression, LassoLars, TweedieRegressor\n",
    "from sklearn.feature_selection import SelectKBest, f_regression\n",
    "from sklearn.preprocessing import PolynomialFeatures\n",
    "from scipy import stats\n",
    "\n",
    "import seaborn as sns\n",
    "import matplotlib.pyplot as plt\n",
    "\n",
    "\n",
    "#ignore warnings\n",
    "import warnings\n",
    "warnings.filterwarnings('ignore')"
   ]
  },
  {
   "cell_type": "code",
   "execution_count": 2,
   "metadata": {},
   "outputs": [
    {
     "data": {
      "text/html": [
       "<div>\n",
       "<style scoped>\n",
       "    .dataframe tbody tr th:only-of-type {\n",
       "        vertical-align: middle;\n",
       "    }\n",
       "\n",
       "    .dataframe tbody tr th {\n",
       "        vertical-align: top;\n",
       "    }\n",
       "\n",
       "    .dataframe thead th {\n",
       "        text-align: right;\n",
       "    }\n",
       "</style>\n",
       "<table border=\"1\" class=\"dataframe\">\n",
       "  <thead>\n",
       "    <tr style=\"text-align: right;\">\n",
       "      <th></th>\n",
       "      <th>show_id</th>\n",
       "      <th>Show Title</th>\n",
       "      <th>Year</th>\n",
       "      <th>Previews Date</th>\n",
       "      <th>Opening Date</th>\n",
       "      <th>Closing Date</th>\n",
       "      <th>Theatre Name</th>\n",
       "      <th>Production Type</th>\n",
       "      <th>Show Type</th>\n",
       "      <th>Show Type (Simple)</th>\n",
       "      <th>...</th>\n",
       "      <th>N Creative Team</th>\n",
       "      <th>theatre_id</th>\n",
       "      <th>Theatre Full Address</th>\n",
       "      <th>Theatre Street Address</th>\n",
       "      <th>Theatre Address Locality</th>\n",
       "      <th>Theatre Address Region</th>\n",
       "      <th>Theatre Postal Code</th>\n",
       "      <th>Theatre Year Closed</th>\n",
       "      <th>Theatre Year Demolished</th>\n",
       "      <th>Theatre Capacity</th>\n",
       "    </tr>\n",
       "  </thead>\n",
       "  <tbody>\n",
       "    <tr>\n",
       "      <th>0</th>\n",
       "      <td>322333</td>\n",
       "      <td>King Richard III</td>\n",
       "      <td>1750</td>\n",
       "      <td>NaN</td>\n",
       "      <td>1750-03-05</td>\n",
       "      <td>1750-03-12</td>\n",
       "      <td>Nassau Street Theatre</td>\n",
       "      <td>Original Production</td>\n",
       "      <td>Play</td>\n",
       "      <td>Play</td>\n",
       "      <td>...</td>\n",
       "      <td>1</td>\n",
       "      <td>5640.0</td>\n",
       "      <td>64-6 Nassau Street New York NY</td>\n",
       "      <td>64-6 Nassau Street</td>\n",
       "      <td>New York</td>\n",
       "      <td>NY</td>\n",
       "      <td>NaN</td>\n",
       "      <td>NaN</td>\n",
       "      <td>NaN</td>\n",
       "      <td>NaN</td>\n",
       "    </tr>\n",
       "  </tbody>\n",
       "</table>\n",
       "<p>1 rows × 29 columns</p>\n",
       "</div>"
      ],
      "text/plain": [
       "   show_id        Show Title  Year Previews Date Opening Date Closing Date  \\\n",
       "0   322333  King Richard III  1750           NaN   1750-03-05   1750-03-12   \n",
       "\n",
       "            Theatre Name      Production Type Show Type Show Type (Simple)  \\\n",
       "0  Nassau Street Theatre  Original Production      Play               Play   \n",
       "\n",
       "   ...  N Creative Team  theatre_id            Theatre Full Address  \\\n",
       "0  ...                1      5640.0  64-6 Nassau Street New York NY   \n",
       "\n",
       "   Theatre Street Address  Theatre Address Locality Theatre Address Region  \\\n",
       "0      64-6 Nassau Street                  New York                     NY   \n",
       "\n",
       "  Theatre Postal Code  Theatre Year Closed  Theatre Year Demolished  \\\n",
       "0                 NaN                  NaN                      NaN   \n",
       "\n",
       "   Theatre Capacity  \n",
       "0               NaN  \n",
       "\n",
       "[1 rows x 29 columns]"
      ]
     },
     "execution_count": 2,
     "metadata": {},
     "output_type": "execute_result"
    }
   ],
   "source": [
    "#Acquire the data\n",
    "df = acquire.get_broadway_data()\n",
    "df.head(1)"
   ]
  },
  {
   "cell_type": "code",
   "execution_count": 3,
   "metadata": {
    "scrolled": true
   },
   "outputs": [
    {
     "name": "stdout",
     "output_type": "stream",
     "text": [
      "<class 'pandas.core.frame.DataFrame'>\n",
      "RangeIndex: 11053 entries, 0 to 11052\n",
      "Data columns (total 29 columns):\n",
      " #   Column                    Non-Null Count  Dtype  \n",
      "---  ------                    --------------  -----  \n",
      " 0   show_id                   11053 non-null  int64  \n",
      " 1   Show Title                11053 non-null  object \n",
      " 2   Year                      11053 non-null  int64  \n",
      " 3   Previews Date             419 non-null    object \n",
      " 4   Opening Date              10996 non-null  object \n",
      " 5   Closing Date              5255 non-null   object \n",
      " 6   Theatre Name              10965 non-null  object \n",
      " 7   Production Type           11053 non-null  object \n",
      " 8   Show Type                 11053 non-null  object \n",
      " 9   Show Type (Simple)        11053 non-null  object \n",
      " 10  Intermissions             2409 non-null   float64\n",
      " 11  N Performances            8835 non-null   float64\n",
      " 12  Run Time                  2 non-null      float64\n",
      " 13  Show Not Opened           11053 non-null  bool   \n",
      " 14  Revival                   11053 non-null  bool   \n",
      " 15  Other Titles              547 non-null    object \n",
      " 16  Official Website          495 non-null    object \n",
      " 17  N People                  11053 non-null  int64  \n",
      " 18  N Performers              11053 non-null  int64  \n",
      " 19  N Creative Team           11053 non-null  int64  \n",
      " 20  theatre_id                10965 non-null  float64\n",
      " 21  Theatre Full Address      10942 non-null  object \n",
      " 22  Theatre Street Address    10916 non-null  object \n",
      " 23  Theatre Address Locality  10942 non-null  object \n",
      " 24  Theatre Address Region    10762 non-null  object \n",
      " 25  Theatre Postal Code       1822 non-null   object \n",
      " 26  Theatre Year Closed       1530 non-null   float64\n",
      " 27  Theatre Year Demolished   4538 non-null   float64\n",
      " 28  Theatre Capacity          9130 non-null   float64\n",
      "dtypes: bool(2), float64(7), int64(5), object(15)\n",
      "memory usage: 2.3+ MB\n"
     ]
    }
   ],
   "source": [
    "df.info()"
   ]
  },
  {
   "cell_type": "code",
   "execution_count": 4,
   "metadata": {},
   "outputs": [],
   "source": [
    "#Prepare the Data\n",
    "df = prepare.prep_bway(df)"
   ]
  },
  {
   "cell_type": "code",
   "execution_count": 5,
   "metadata": {},
   "outputs": [
    {
     "data": {
      "text/plain": [
       "(4549, 26)"
      ]
     },
     "execution_count": 5,
     "metadata": {},
     "output_type": "execute_result"
    }
   ],
   "source": [
    "df.shape"
   ]
  },
  {
   "cell_type": "code",
   "execution_count": 6,
   "metadata": {
    "scrolled": true
   },
   "outputs": [
    {
     "name": "stdout",
     "output_type": "stream",
     "text": [
      "<class 'pandas.core.frame.DataFrame'>\n",
      "Int64Index: 4549 entries, 322308 to 333480\n",
      "Data columns (total 26 columns):\n",
      " #   Column                               Non-Null Count  Dtype  \n",
      "---  ------                               --------------  -----  \n",
      " 0   Year                                 4549 non-null   int64  \n",
      " 1   N People                             4549 non-null   int64  \n",
      " 2   N Performers                         4549 non-null   int64  \n",
      " 3   N Creative Team                      4549 non-null   int64  \n",
      " 4   theatre_id                           4549 non-null   float64\n",
      " 5   Theatre Capacity                     4549 non-null   float64\n",
      " 6   length_of_run                        4549 non-null   int64  \n",
      " 7   is_revival                           4549 non-null   uint8  \n",
      " 8   Production Type_Concert              4549 non-null   uint8  \n",
      " 9   Production Type_Original Production  4549 non-null   uint8  \n",
      " 10  Production Type_Premiere             4549 non-null   uint8  \n",
      " 11  Production Type_Production           4549 non-null   uint8  \n",
      " 12  Production Type_Revised Production   4549 non-null   uint8  \n",
      " 13  Production Type_Revival              4549 non-null   uint8  \n",
      " 14  Show Type_Ballet                     4549 non-null   uint8  \n",
      " 15  Show Type_Dance                      4549 non-null   uint8  \n",
      " 16  Show Type_Musical                    4549 non-null   uint8  \n",
      " 17  Show Type_One-Acts                   4549 non-null   uint8  \n",
      " 18  Show Type_Opera Bouffe               4549 non-null   uint8  \n",
      " 19  Show Type_Operetta                   4549 non-null   uint8  \n",
      " 20  Show Type_Other                      4549 non-null   uint8  \n",
      " 21  Show Type_Performance                4549 non-null   uint8  \n",
      " 22  Show Type_Play                       4549 non-null   uint8  \n",
      " 23  Show Type_Play with Music            4549 non-null   uint8  \n",
      " 24  Show Type_Solo                       4549 non-null   uint8  \n",
      " 25  Show Type_Vaudeville                 4549 non-null   uint8  \n",
      "dtypes: float64(2), int64(5), uint8(19)\n",
      "memory usage: 368.7 KB\n"
     ]
    }
   ],
   "source": [
    "df.info()"
   ]
  },
  {
   "cell_type": "markdown",
   "metadata": {},
   "source": [
    "**Data Exploration**"
   ]
  },
  {
   "cell_type": "code",
   "execution_count": 7,
   "metadata": {},
   "outputs": [
    {
     "data": {
      "text/plain": [
       "<bound method IndexOpsMixin.tolist of Index(['Year', 'N People', 'N Performers', 'N Creative Team', 'theatre_id',\n",
       "       'Theatre Capacity', 'length_of_run', 'is_revival',\n",
       "       'Production Type_Concert', 'Production Type_Original Production',\n",
       "       'Production Type_Premiere', 'Production Type_Production',\n",
       "       'Production Type_Revised Production', 'Production Type_Revival',\n",
       "       'Show Type_Ballet', 'Show Type_Dance', 'Show Type_Musical',\n",
       "       'Show Type_One-Acts', 'Show Type_Opera Bouffe', 'Show Type_Operetta',\n",
       "       'Show Type_Other', 'Show Type_Performance', 'Show Type_Play',\n",
       "       'Show Type_Play with Music', 'Show Type_Solo', 'Show Type_Vaudeville'],\n",
       "      dtype='object')>"
      ]
     },
     "execution_count": 7,
     "metadata": {},
     "output_type": "execute_result"
    }
   ],
   "source": [
    "df.columns.to_list"
   ]
  },
  {
   "cell_type": "code",
   "execution_count": 8,
   "metadata": {},
   "outputs": [],
   "source": [
    "cat_vars = ['is_revival', 'Production Type_Concert',\n",
    "       'Production Type_Original Production', 'Production Type_Premiere',\n",
    "       'Production Type_Production', 'Production Type_Revised Production',\n",
    "       'Production Type_Revival', 'Show Type_Ballet', 'Show Type_Dance',\n",
    "       'Show Type_Musical', 'Show Type_One-Acts', 'Show Type_Opera Bouffe',\n",
    "       'Show Type_Operetta', 'Show Type_Other', 'Show Type_Performance',\n",
    "       'Show Type_Play', 'Show Type_Play with Music', 'Show Type_Solo',\n",
    "       'Show Type_Vaudeville']\n",
    "\n",
    "quant_vars = ['Year','N People', 'N Performers',\n",
    "       'N Creative Team', 'theatre_id', 'Theatre Capacity', 'length_of_run']"
   ]
  },
  {
   "cell_type": "code",
   "execution_count": null,
   "metadata": {},
   "outputs": [],
   "source": [
    "explore.explore_univariate(df, cat_vars, quant_vars)"
   ]
  },
  {
   "cell_type": "markdown",
   "metadata": {},
   "source": [
    "**Takeaways:**\n",
    "- Only 1/4 of the shows are revivals\n",
    "- Production type:Production?\n",
    "- Revival under production type + is production type...should I drop one?\n",
    "- Show type performance? only .18? What is that category\n",
    "- Show type solo - is this duplicated with number of actors?"
   ]
  },
  {
   "cell_type": "markdown",
   "metadata": {},
   "source": [
    "**Multivariate Analysis**"
   ]
  },
  {
   "cell_type": "code",
   "execution_count": 11,
   "metadata": {},
   "outputs": [],
   "source": [
    "partitions = prepare.split(df, 'length_of_run')"
   ]
  },
  {
   "cell_type": "code",
   "execution_count": 12,
   "metadata": {},
   "outputs": [
    {
     "data": {
      "text/html": [
       "<div>\n",
       "<style scoped>\n",
       "    .dataframe tbody tr th:only-of-type {\n",
       "        vertical-align: middle;\n",
       "    }\n",
       "\n",
       "    .dataframe tbody tr th {\n",
       "        vertical-align: top;\n",
       "    }\n",
       "\n",
       "    .dataframe thead th {\n",
       "        text-align: right;\n",
       "    }\n",
       "</style>\n",
       "<table border=\"1\" class=\"dataframe\">\n",
       "  <thead>\n",
       "    <tr style=\"text-align: right;\">\n",
       "      <th></th>\n",
       "      <th>Year</th>\n",
       "      <th>N People</th>\n",
       "      <th>N Performers</th>\n",
       "      <th>N Creative Team</th>\n",
       "      <th>theatre_id</th>\n",
       "      <th>Theatre Capacity</th>\n",
       "      <th>length_of_run</th>\n",
       "      <th>is_revival</th>\n",
       "      <th>Production Type_Concert</th>\n",
       "      <th>Production Type_Original Production</th>\n",
       "      <th>...</th>\n",
       "      <th>Show Type_Musical</th>\n",
       "      <th>Show Type_One-Acts</th>\n",
       "      <th>Show Type_Opera Bouffe</th>\n",
       "      <th>Show Type_Operetta</th>\n",
       "      <th>Show Type_Other</th>\n",
       "      <th>Show Type_Performance</th>\n",
       "      <th>Show Type_Play</th>\n",
       "      <th>Show Type_Play with Music</th>\n",
       "      <th>Show Type_Solo</th>\n",
       "      <th>Show Type_Vaudeville</th>\n",
       "    </tr>\n",
       "    <tr>\n",
       "      <th>show_id</th>\n",
       "      <th></th>\n",
       "      <th></th>\n",
       "      <th></th>\n",
       "      <th></th>\n",
       "      <th></th>\n",
       "      <th></th>\n",
       "      <th></th>\n",
       "      <th></th>\n",
       "      <th></th>\n",
       "      <th></th>\n",
       "      <th></th>\n",
       "      <th></th>\n",
       "      <th></th>\n",
       "      <th></th>\n",
       "      <th></th>\n",
       "      <th></th>\n",
       "      <th></th>\n",
       "      <th></th>\n",
       "      <th></th>\n",
       "      <th></th>\n",
       "      <th></th>\n",
       "    </tr>\n",
       "  </thead>\n",
       "  <tbody>\n",
       "    <tr>\n",
       "      <th>320884</th>\n",
       "      <td>1945</td>\n",
       "      <td>11</td>\n",
       "      <td>8</td>\n",
       "      <td>3</td>\n",
       "      <td>5031.0</td>\n",
       "      <td>1096.0</td>\n",
       "      <td>30</td>\n",
       "      <td>0</td>\n",
       "      <td>0</td>\n",
       "      <td>1</td>\n",
       "      <td>...</td>\n",
       "      <td>0</td>\n",
       "      <td>0</td>\n",
       "      <td>0</td>\n",
       "      <td>0</td>\n",
       "      <td>0</td>\n",
       "      <td>0</td>\n",
       "      <td>1</td>\n",
       "      <td>0</td>\n",
       "      <td>0</td>\n",
       "      <td>0</td>\n",
       "    </tr>\n",
       "    <tr>\n",
       "      <th>329875</th>\n",
       "      <td>2011</td>\n",
       "      <td>81</td>\n",
       "      <td>23</td>\n",
       "      <td>59</td>\n",
       "      <td>5132.0</td>\n",
       "      <td>1006.0</td>\n",
       "      <td>52</td>\n",
       "      <td>0</td>\n",
       "      <td>0</td>\n",
       "      <td>1</td>\n",
       "      <td>...</td>\n",
       "      <td>1</td>\n",
       "      <td>0</td>\n",
       "      <td>0</td>\n",
       "      <td>0</td>\n",
       "      <td>0</td>\n",
       "      <td>0</td>\n",
       "      <td>0</td>\n",
       "      <td>0</td>\n",
       "      <td>0</td>\n",
       "      <td>0</td>\n",
       "    </tr>\n",
       "    <tr>\n",
       "      <th>311763</th>\n",
       "      <td>1984</td>\n",
       "      <td>23</td>\n",
       "      <td>10</td>\n",
       "      <td>15</td>\n",
       "      <td>5057.0</td>\n",
       "      <td>1009.0</td>\n",
       "      <td>83</td>\n",
       "      <td>0</td>\n",
       "      <td>0</td>\n",
       "      <td>1</td>\n",
       "      <td>...</td>\n",
       "      <td>0</td>\n",
       "      <td>0</td>\n",
       "      <td>0</td>\n",
       "      <td>0</td>\n",
       "      <td>0</td>\n",
       "      <td>0</td>\n",
       "      <td>1</td>\n",
       "      <td>0</td>\n",
       "      <td>0</td>\n",
       "      <td>0</td>\n",
       "    </tr>\n",
       "    <tr>\n",
       "      <th>321169</th>\n",
       "      <td>1952</td>\n",
       "      <td>13</td>\n",
       "      <td>7</td>\n",
       "      <td>6</td>\n",
       "      <td>7033.0</td>\n",
       "      <td>922.0</td>\n",
       "      <td>19</td>\n",
       "      <td>0</td>\n",
       "      <td>0</td>\n",
       "      <td>1</td>\n",
       "      <td>...</td>\n",
       "      <td>0</td>\n",
       "      <td>0</td>\n",
       "      <td>0</td>\n",
       "      <td>0</td>\n",
       "      <td>0</td>\n",
       "      <td>0</td>\n",
       "      <td>1</td>\n",
       "      <td>0</td>\n",
       "      <td>0</td>\n",
       "      <td>0</td>\n",
       "    </tr>\n",
       "    <tr>\n",
       "      <th>330110</th>\n",
       "      <td>2012</td>\n",
       "      <td>50</td>\n",
       "      <td>27</td>\n",
       "      <td>23</td>\n",
       "      <td>6985.0</td>\n",
       "      <td>1467.0</td>\n",
       "      <td>101</td>\n",
       "      <td>1</td>\n",
       "      <td>0</td>\n",
       "      <td>0</td>\n",
       "      <td>...</td>\n",
       "      <td>1</td>\n",
       "      <td>0</td>\n",
       "      <td>0</td>\n",
       "      <td>0</td>\n",
       "      <td>0</td>\n",
       "      <td>0</td>\n",
       "      <td>0</td>\n",
       "      <td>0</td>\n",
       "      <td>0</td>\n",
       "      <td>0</td>\n",
       "    </tr>\n",
       "  </tbody>\n",
       "</table>\n",
       "<p>5 rows × 26 columns</p>\n",
       "</div>"
      ],
      "text/plain": [
       "         Year  N People  N Performers  N Creative Team  theatre_id  \\\n",
       "show_id                                                              \n",
       "320884   1945        11             8                3      5031.0   \n",
       "329875   2011        81            23               59      5132.0   \n",
       "311763   1984        23            10               15      5057.0   \n",
       "321169   1952        13             7                6      7033.0   \n",
       "330110   2012        50            27               23      6985.0   \n",
       "\n",
       "         Theatre Capacity  length_of_run  is_revival  Production Type_Concert  \\\n",
       "show_id                                                                         \n",
       "320884             1096.0             30           0                        0   \n",
       "329875             1006.0             52           0                        0   \n",
       "311763             1009.0             83           0                        0   \n",
       "321169              922.0             19           0                        0   \n",
       "330110             1467.0            101           1                        0   \n",
       "\n",
       "         Production Type_Original Production  ...  Show Type_Musical  \\\n",
       "show_id                                       ...                      \n",
       "320884                                     1  ...                  0   \n",
       "329875                                     1  ...                  1   \n",
       "311763                                     1  ...                  0   \n",
       "321169                                     1  ...                  0   \n",
       "330110                                     0  ...                  1   \n",
       "\n",
       "         Show Type_One-Acts  Show Type_Opera Bouffe  Show Type_Operetta  \\\n",
       "show_id                                                                   \n",
       "320884                    0                       0                   0   \n",
       "329875                    0                       0                   0   \n",
       "311763                    0                       0                   0   \n",
       "321169                    0                       0                   0   \n",
       "330110                    0                       0                   0   \n",
       "\n",
       "         Show Type_Other  Show Type_Performance  Show Type_Play  \\\n",
       "show_id                                                           \n",
       "320884                 0                      0               1   \n",
       "329875                 0                      0               0   \n",
       "311763                 0                      0               1   \n",
       "321169                 0                      0               1   \n",
       "330110                 0                      0               0   \n",
       "\n",
       "         Show Type_Play with Music  Show Type_Solo  Show Type_Vaudeville  \n",
       "show_id                                                                   \n",
       "320884                           0               0                     0  \n",
       "329875                           0               0                     0  \n",
       "311763                           0               0                     0  \n",
       "321169                           0               0                     0  \n",
       "330110                           0               0                     0  \n",
       "\n",
       "[5 rows x 26 columns]"
      ]
     },
     "execution_count": 12,
     "metadata": {},
     "output_type": "execute_result"
    }
   ],
   "source": [
    "train = partitions[0]\n",
    "train.head()"
   ]
  },
  {
   "cell_type": "code",
   "execution_count": null,
   "metadata": {},
   "outputs": [],
   "source": [
    "#Separate logerror into quantiles\n",
    "train['run_class'] = pd.qcut(train.length_of_run, q=5, labels=['q1', 'q2', 'q3', 'q4', 'q5'])"
   ]
  },
  {
   "cell_type": "code",
   "execution_count": null,
   "metadata": {},
   "outputs": [],
   "source": [
    "categorical_target = 'run_class'\n",
    "continuous_target = 'length_of_run'\n",
    "binary_vars = ['is_revival', 'Production Type_Concert',\n",
    "       'Production Type_Original Production', 'Production Type_Premiere',\n",
    "       'Production Type_Production', 'Production Type_Revised Production',\n",
    "       'Production Type_Revival', 'Show Type_Ballet', 'Show Type_Dance',\n",
    "       'Show Type_Musical', 'Show Type_One-Acts', 'Show Type_Opera Bouffe',\n",
    "       'Show Type_Operetta', 'Show Type_Other', 'Show Type_Performance',\n",
    "       'Show Type_Play', 'Show Type_Play with Music', 'Show Type_Solo',\n",
    "       'Show Type_Vaudeville']\n",
    "\n",
    "quant_vars = ['Year','N People', 'N Performers',\n",
    "       'N Creative Team', 'theatre_id', 'Theatre Capacity', 'length_of_run']"
   ]
  },
  {
   "cell_type": "code",
   "execution_count": null,
   "metadata": {},
   "outputs": [],
   "source": [
    "explore.explore_bivariate(train, categorical_target, continuous_target, binary_vars, quant_vars)"
   ]
  },
  {
   "cell_type": "markdown",
   "metadata": {},
   "source": [
    "**Takeaways:**\n",
    "- is_revival is normally distributed bu run class\n",
    "- Original productions either flop immediately or do really well it seems visually, but the pvalue is too high\n",
    "- Premiere is better feature it seems for predicting run length\n",
    "- Not much for production or revised production\n",
    "- Ballet in q4 only...how many different ballets are there in this data set?\n",
    "- Dance is in the middle...no super long runs, but also no super short runs\n",
    "- Musicals skew towards longer runs...as expected\n",
    "- Others run longer which is interesting...is it because the category is high risk that producers only take it on when they have reason to believe it will be a huge success?\n",
    "- Plays have shorter run lengths...again, no  surprise there\n",
    "- But plays with music do better...may want to make sure I keep those categories disticnt\n",
    "- Not much said for solo\n",
    "- Vaudevile is short runs...probably correlated with when the show premiered and run times were shorter?\n",
    "- Looks like there is a relationship between when a show premiered and how long it runs\n",
    "- One outlier in year 1850...propbably need to address that in i2\n",
    "- The number of performers seems to have a relationship with length of run\n",
    "- Creative team and the number of people on it is definitely correlated\n",
    "- Looks like some venues are more successful\n",
    "- Capacity is correlated with success"
   ]
  },
  {
   "cell_type": "markdown",
   "metadata": {},
   "source": [
    "**Multivariate Exploration**"
   ]
  },
  {
   "cell_type": "code",
   "execution_count": null,
   "metadata": {},
   "outputs": [],
   "source": [
    "sns.heatmap(train[['length_of_run','Show Type_Musical','N Creative Team','Theatre Capacity','Year']].corr())"
   ]
  },
  {
   "cell_type": "code",
   "execution_count": null,
   "metadata": {},
   "outputs": [],
   "source": [
    "sns.pairplot(train[['length_of_run', 'run_class','Show Type_Musical', 'Show Type_Play with Music',\n",
    "      'N Performers','N Creative Team','Theatre Capacity']], hue='run_class')"
   ]
  },
  {
   "cell_type": "markdown",
   "metadata": {},
   "source": [
    "**Takeaways:**<br>\n",
    "    - Don't see too much here honestly"
   ]
  },
  {
   "cell_type": "markdown",
   "metadata": {},
   "source": [
    "## Exploration with Clustering"
   ]
  },
  {
   "cell_type": "code",
   "execution_count": 13,
   "metadata": {},
   "outputs": [
    {
     "data": {
      "text/plain": [
       "Index(['Year', 'N People', 'N Performers', 'N Creative Team', 'theatre_id',\n",
       "       'Theatre Capacity', 'length_of_run', 'is_revival',\n",
       "       'Production Type_Concert', 'Production Type_Original Production',\n",
       "       'Production Type_Premiere', 'Production Type_Production',\n",
       "       'Production Type_Revised Production', 'Production Type_Revival',\n",
       "       'Show Type_Ballet', 'Show Type_Dance', 'Show Type_Musical',\n",
       "       'Show Type_One-Acts', 'Show Type_Opera Bouffe', 'Show Type_Operetta',\n",
       "       'Show Type_Other', 'Show Type_Performance', 'Show Type_Play',\n",
       "       'Show Type_Play with Music', 'Show Type_Solo', 'Show Type_Vaudeville'],\n",
       "      dtype='object')"
      ]
     },
     "execution_count": 13,
     "metadata": {},
     "output_type": "execute_result"
    }
   ],
   "source": [
    "train.columns"
   ]
  },
  {
   "cell_type": "code",
   "execution_count": 14,
   "metadata": {},
   "outputs": [],
   "source": [
    "# the variables that need scaling\n",
    "scaled_vars = ['Year', 'N People', 'N Performers',\n",
    "       'N Creative Team', 'theatre_id', 'Theatre Capacity']\n",
    "\n",
    "# create new column names for the scaled variables by adding 'scaled_' to the beginning of each variable name \n",
    "scaled_column_names = ['scaled_' + i for i in scaled_vars]\n",
    "\n",
    "# select the X partitions: [X_train, X_validate, X_test]\n",
    "X = partitions[1:4]\n",
    "\n",
    "# fit the minmaxscaler to X_train\n",
    "X_train = X[0]\n",
    "X_validate = X[1]\n",
    "X_test = X[2]\n",
    "\n",
    "scaler = MinMaxScaler(copy=True).fit(X_train[scaled_vars])\n",
    "scaler = MinMaxScaler(copy=True).fit(X_validate[scaled_vars])\n",
    "scaler = MinMaxScaler(copy=True).fit(X_test[scaled_vars])\n",
    "\n",
    "def scale_and_concat(df):\n",
    "    scaled_array = scaler.transform(df[scaled_vars])\n",
    "    scaled_df = pd.DataFrame(scaled_array, columns=scaled_column_names, index=df.index.values)\n",
    "    return pd.concat((df, scaled_df), axis=1)\n",
    "\n",
    "for i in range(len(X)):\n",
    "    X[i] = scale_and_concat(X[i])"
   ]
  },
  {
   "cell_type": "code",
   "execution_count": 15,
   "metadata": {},
   "outputs": [],
   "source": [
    "#Set X_train to X[0] (Partitions[1] = X_train = X[0])\n",
    "X_train = X[0]"
   ]
  },
  {
   "cell_type": "markdown",
   "metadata": {},
   "source": [
    "### Cluster on Year and 'N Creative Team'"
   ]
  },
  {
   "cell_type": "code",
   "execution_count": null,
   "metadata": {},
   "outputs": [],
   "source": [
    "# define independent variables for k-means\n",
    "X = X_train[['Year', 'N Creative Team']]"
   ]
  },
  {
   "cell_type": "code",
   "execution_count": null,
   "metadata": {},
   "outputs": [],
   "source": [
    "# lets plot inertia vs k\n",
    "with plt.style.context('seaborn-whitegrid'):\n",
    "    plt.figure(figsize=(9, 6))\n",
    "    pd.Series({k: KMeans(k).fit(X).inertia_ for k in range(2, 12)}).plot(marker='x')\n",
    "    plt.xticks(range(2, 12))\n",
    "    plt.xlabel('k')\n",
    "    plt.ylabel('inertia')\n",
    "    plt.title('Change in inertia as k increases')"
   ]
  },
  {
   "cell_type": "code",
   "execution_count": null,
   "metadata": {
    "scrolled": false
   },
   "outputs": [],
   "source": [
    "#define the thing\n",
    "kmeans = KMeans(n_clusters=4)\n",
    "\n",
    "# fit the thing\n",
    "kmeans.fit(X)\n",
    "\n",
    "# Use (predict using) the thing \n",
    "kmeans.predict(X)\n",
    "\n",
    "# make a new column names cluster in X_train and X[0] dataframe\n",
    "X_train['cluster'] = kmeans.predict(X)\n",
    "\n",
    "# Cluster Centers aka centroids - THE OUTPUT IS SCALED \n",
    "kmeans.cluster_centers_\n",
    "\n",
    "# Make a dataframe of the Centroids for visualization\n",
    "centroids_scaled = pd.DataFrame(kmeans.cluster_centers_, columns = X.columns)\n",
    "\n",
    "#Plot the clusters and centroids\n",
    "plt.figure(figsize=(14,8))\n",
    "\n",
    "sns.scatterplot(x=\"scaled_Year\", y=\"scaled_N Creative Team\", data=X_train, hue='cluster')\n",
    "\n",
    "# plot cluster centers (centroids)\n",
    "#centroids_scaled.plot.scatter(x=\"scaled_Year\", y=\"scaled_N Creative Team\", ax=plt.gca(), color='k', alpha = 0.3, s = 200, marker = 'o', label = 'centroids_scaled')\n",
    "\n",
    "plt.title('Clusters of Shows by Year and N Creative Team(scaled)')\n",
    "plt.show()"
   ]
  },
  {
   "cell_type": "markdown",
   "metadata": {},
   "source": [
    "**Takeaways:**\n",
    "- More modern/contempory shows have > creative team members than less modern shows"
   ]
  },
  {
   "cell_type": "code",
   "execution_count": null,
   "metadata": {},
   "outputs": [],
   "source": [
    "X_train.drop(columns={'cluster'}, inplace=True)"
   ]
  },
  {
   "cell_type": "markdown",
   "metadata": {},
   "source": [
    "## Modeling"
   ]
  },
  {
   "cell_type": "code",
   "execution_count": 16,
   "metadata": {},
   "outputs": [],
   "source": [
    "#Define the other dataframes from partitions\n",
    "X_validate = partitions[2]\n",
    "X_test = partitions[3]\n",
    "y_train = partitions[4]\n",
    "y_validate = partitions[5] \n",
    "y_test = partitions[6]"
   ]
  },
  {
   "cell_type": "markdown",
   "metadata": {},
   "source": [
    "### Establish a Baseline Accuracy Model"
   ]
  },
  {
   "cell_type": "code",
   "execution_count": 17,
   "metadata": {},
   "outputs": [],
   "source": [
    "# 1. Predict length of run with mean\n",
    "yhat_baseline = y_train['length_of_run'].mean()\n",
    "y_train['yhat_baseline_mean'] = yhat_baseline\n",
    "\n",
    "\n",
    "#2. Predict length of run with median\n",
    "yhat_baseline = y_train['length_of_run'].median()\n",
    "y_train['yhat_baseline_median'] = yhat_baseline\n",
    "\n",
    "#Evaluate the baseline model using the mean\n",
    "mean_baseline_stats = pd.DataFrame([evaluate.baseline_mean_errors(y_train.length_of_run)])\n",
    "median_baseline_stats = pd.DataFrame([evaluate.baseline_median_errors(y_train.length_of_run)])"
   ]
  },
  {
   "cell_type": "code",
   "execution_count": 18,
   "metadata": {},
   "outputs": [
    {
     "data": {
      "text/html": [
       "<div>\n",
       "<style scoped>\n",
       "    .dataframe tbody tr th:only-of-type {\n",
       "        vertical-align: middle;\n",
       "    }\n",
       "\n",
       "    .dataframe tbody tr th {\n",
       "        vertical-align: top;\n",
       "    }\n",
       "\n",
       "    .dataframe thead th {\n",
       "        text-align: right;\n",
       "    }\n",
       "</style>\n",
       "<table border=\"1\" class=\"dataframe\">\n",
       "  <thead>\n",
       "    <tr style=\"text-align: right;\">\n",
       "      <th></th>\n",
       "      <th>sse</th>\n",
       "      <th>mse</th>\n",
       "      <th>rmse</th>\n",
       "    </tr>\n",
       "  </thead>\n",
       "  <tbody>\n",
       "    <tr>\n",
       "      <th>0</th>\n",
       "      <td>3.433513e+08</td>\n",
       "      <td>134806.181809</td>\n",
       "      <td>367.159614</td>\n",
       "    </tr>\n",
       "  </tbody>\n",
       "</table>\n",
       "</div>"
      ],
      "text/plain": [
       "            sse            mse        rmse\n",
       "0  3.433513e+08  134806.181809  367.159614"
      ]
     },
     "execution_count": 18,
     "metadata": {},
     "output_type": "execute_result"
    }
   ],
   "source": [
    "mean_baseline_stats"
   ]
  },
  {
   "cell_type": "code",
   "execution_count": 19,
   "metadata": {},
   "outputs": [
    {
     "data": {
      "text/html": [
       "<div>\n",
       "<style scoped>\n",
       "    .dataframe tbody tr th:only-of-type {\n",
       "        vertical-align: middle;\n",
       "    }\n",
       "\n",
       "    .dataframe tbody tr th {\n",
       "        vertical-align: top;\n",
       "    }\n",
       "\n",
       "    .dataframe thead th {\n",
       "        text-align: right;\n",
       "    }\n",
       "</style>\n",
       "<table border=\"1\" class=\"dataframe\">\n",
       "  <thead>\n",
       "    <tr style=\"text-align: right;\">\n",
       "      <th></th>\n",
       "      <th>sse</th>\n",
       "      <th>mse</th>\n",
       "      <th>rmse</th>\n",
       "    </tr>\n",
       "  </thead>\n",
       "  <tbody>\n",
       "    <tr>\n",
       "      <th>0</th>\n",
       "      <td>366386876.0</td>\n",
       "      <td>143850.363565</td>\n",
       "      <td>379.276105</td>\n",
       "    </tr>\n",
       "  </tbody>\n",
       "</table>\n",
       "</div>"
      ],
      "text/plain": [
       "           sse            mse        rmse\n",
       "0  366386876.0  143850.363565  379.276105"
      ]
     },
     "execution_count": 19,
     "metadata": {},
     "output_type": "execute_result"
    }
   ],
   "source": [
    "median_baseline_stats"
   ]
  },
  {
   "cell_type": "markdown",
   "metadata": {},
   "source": [
    "**Takeaways:**\n",
    "Use the mean for establishing baseline"
   ]
  },
  {
   "cell_type": "code",
   "execution_count": 20,
   "metadata": {},
   "outputs": [],
   "source": [
    "y_train.drop(columns={'yhat_baseline_median'}, inplace=True)"
   ]
  },
  {
   "cell_type": "code",
   "execution_count": 27,
   "metadata": {},
   "outputs": [
    {
     "data": {
      "text/plain": [
       "Index(['Year', 'N People', 'N Performers', 'N Creative Team', 'theatre_id',\n",
       "       'Theatre Capacity', 'is_revival', 'Production Type_Concert',\n",
       "       'Production Type_Original Production', 'Production Type_Premiere',\n",
       "       'Production Type_Production', 'Production Type_Revised Production',\n",
       "       'Production Type_Revival', 'Show Type_Ballet', 'Show Type_Dance',\n",
       "       'Show Type_Musical', 'Show Type_One-Acts', 'Show Type_Opera Bouffe',\n",
       "       'Show Type_Operetta', 'Show Type_Other', 'Show Type_Performance',\n",
       "       'Show Type_Play', 'Show Type_Play with Music', 'Show Type_Solo',\n",
       "       'Show Type_Vaudeville', 'scaled_Year', 'scaled_N People',\n",
       "       'scaled_N Performers', 'scaled_N Creative Team', 'scaled_theatre_id',\n",
       "       'scaled_Theatre Capacity'],\n",
       "      dtype='object')"
      ]
     },
     "execution_count": 27,
     "metadata": {},
     "output_type": "execute_result"
    }
   ],
   "source": [
    "X_train.columns"
   ]
  },
  {
   "cell_type": "markdown",
   "metadata": {},
   "source": [
    "### Linear Regression"
   ]
  },
  {
   "cell_type": "code",
   "execution_count": 28,
   "metadata": {},
   "outputs": [
    {
     "data": {
      "image/png": "[encoded data removed]",
      "text/plain": [
       "<Figure size 432x288 with 1 Axes>"
      ]
     },
     "metadata": {
      "needs_background": "light"
     },
     "output_type": "display_data"
    },
    {
     "data": {
      "text/html": [
       "<div>\n",
       "<style scoped>\n",
       "    .dataframe tbody tr th:only-of-type {\n",
       "        vertical-align: middle;\n",
       "    }\n",
       "\n",
       "    .dataframe tbody tr th {\n",
       "        vertical-align: top;\n",
       "    }\n",
       "\n",
       "    .dataframe thead th {\n",
       "        text-align: right;\n",
       "    }\n",
       "</style>\n",
       "<table border=\"1\" class=\"dataframe\">\n",
       "  <thead>\n",
       "    <tr style=\"text-align: right;\">\n",
       "      <th></th>\n",
       "      <th>sse</th>\n",
       "      <th>ess</th>\n",
       "      <th>tss</th>\n",
       "      <th>mse</th>\n",
       "      <th>rmse</th>\n",
       "      <th>r^2</th>\n",
       "    </tr>\n",
       "  </thead>\n",
       "  <tbody>\n",
       "    <tr>\n",
       "      <th>0</th>\n",
       "      <td>277522139.0</td>\n",
       "      <td>6.518006e+07</td>\n",
       "      <td>3.433513e+08</td>\n",
       "      <td>108960.400079</td>\n",
       "      <td>330.091503</td>\n",
       "      <td>0.189835</td>\n",
       "    </tr>\n",
       "  </tbody>\n",
       "</table>\n",
       "</div>"
      ],
      "text/plain": [
       "           sse           ess           tss            mse        rmse  \\\n",
       "0  277522139.0  6.518006e+07  3.433513e+08  108960.400079  330.091503   \n",
       "\n",
       "        r^2  \n",
       "0  0.189835  "
      ]
     },
     "execution_count": 28,
     "metadata": {},
     "output_type": "execute_result"
    }
   ],
   "source": [
    "# create the model object\n",
    "lm = LinearRegression(normalize=True)\n",
    "\n",
    "# fit the model to our training data. We must specify the column in y_train, \n",
    "# since we have converted it to a dataframe from a series! \n",
    "lm.fit(X_train[['is_revival', 'Production Type_Concert',\n",
    "       'Production Type_Original Production', 'Production Type_Premiere',\n",
    "       'Production Type_Production', 'Production Type_Revised Production',\n",
    "       'Production Type_Revival', 'Show Type_Ballet', 'Show Type_Dance',\n",
    "       'Show Type_Musical', 'Show Type_One-Acts', 'Show Type_Opera Bouffe',\n",
    "       'Show Type_Operetta', 'Show Type_Other', 'Show Type_Performance',\n",
    "       'Show Type_Play', 'Show Type_Play with Music', 'Show Type_Solo',\n",
    "       'Show Type_Vaudeville', 'scaled_Year', 'scaled_N People',\n",
    "       'scaled_N Performers', 'scaled_N Creative Team', 'scaled_theatre_id',\n",
    "       'scaled_Theatre Capacity']], y_train.length_of_run)\n",
    "\n",
    "# predict train\n",
    "y_train['yhat_lm'] = lm.predict(X_train[['is_revival', 'Production Type_Concert',\n",
    "       'Production Type_Original Production', 'Production Type_Premiere',\n",
    "       'Production Type_Production', 'Production Type_Revised Production',\n",
    "       'Production Type_Revival', 'Show Type_Ballet', 'Show Type_Dance',\n",
    "       'Show Type_Musical', 'Show Type_One-Acts', 'Show Type_Opera Bouffe',\n",
    "       'Show Type_Operetta', 'Show Type_Other', 'Show Type_Performance',\n",
    "       'Show Type_Play', 'Show Type_Play with Music', 'Show Type_Solo',\n",
    "       'Show Type_Vaudeville', 'scaled_Year', 'scaled_N People',\n",
    "       'scaled_N Performers', 'scaled_N Creative Team', 'scaled_theatre_id',\n",
    "       'scaled_Theatre Capacity']])\n",
    "\n",
    "# compute residuals\n",
    "y_train['residual'] = y_train['yhat_lm'] - y_train['length_of_run']\n",
    "y_train['baseline_residual'] = y_train['yhat_baseline_mean'] - y_train['length_of_run']\n",
    "\n",
    "#Use evaluate model to visualize the residuals\n",
    "evaluate.plot_residuals(y_train.length_of_run, y_train.yhat_lm)\n",
    "\n",
    "#Retrieve evaluation metrics for Linear Regression Model on in-sample data\n",
    "pd.DataFrame(evaluate.regression_errors(y_train.length_of_run, y_train.yhat_lm)).T"
   ]
  },
  {
   "cell_type": "code",
   "execution_count": 29,
   "metadata": {},
   "outputs": [
    {
     "data": {
      "image/png": "[encoded data removed]",
      "text/plain": [
       "<Figure size 432x288 with 1 Axes>"
      ]
     },
     "metadata": {
      "needs_background": "light"
     },
     "output_type": "display_data"
    },
    {
     "data": {
      "text/html": [
       "<div>\n",
       "<style scoped>\n",
       "    .dataframe tbody tr th:only-of-type {\n",
       "        vertical-align: middle;\n",
       "    }\n",
       "\n",
       "    .dataframe tbody tr th {\n",
       "        vertical-align: top;\n",
       "    }\n",
       "\n",
       "    .dataframe thead th {\n",
       "        text-align: right;\n",
       "    }\n",
       "</style>\n",
       "<table border=\"1\" class=\"dataframe\">\n",
       "  <thead>\n",
       "    <tr style=\"text-align: right;\">\n",
       "      <th></th>\n",
       "      <th>sse</th>\n",
       "      <th>ess</th>\n",
       "      <th>tss</th>\n",
       "      <th>mse</th>\n",
       "      <th>rmse</th>\n",
       "      <th>r^2</th>\n",
       "    </tr>\n",
       "  </thead>\n",
       "  <tbody>\n",
       "    <tr>\n",
       "      <th>0</th>\n",
       "      <td>2.139651e+32</td>\n",
       "      <td>2.139651e+32</td>\n",
       "      <td>9.001692e+07</td>\n",
       "      <td>1.959387e+29</td>\n",
       "      <td>4.426497e+14</td>\n",
       "      <td>2.376943e+24</td>\n",
       "    </tr>\n",
       "  </tbody>\n",
       "</table>\n",
       "</div>"
      ],
      "text/plain": [
       "            sse           ess           tss           mse          rmse  \\\n",
       "0  2.139651e+32  2.139651e+32  9.001692e+07  1.959387e+29  4.426497e+14   \n",
       "\n",
       "            r^2  \n",
       "0  2.376943e+24  "
      ]
     },
     "execution_count": 29,
     "metadata": {},
     "output_type": "execute_result"
    }
   ],
   "source": [
    "X_validate = X[1]\n",
    "\n",
    "# Calculate Baseline Mean on y_validate\n",
    "yhat_baseline = y_validate['length_of_run'].mean()\n",
    "y_validate['yhat_baseline_mean'] = yhat_baseline\n",
    "\n",
    "# predict validate\n",
    "y_validate['yhat_lm'] = lm.predict(X_validate[['is_revival', 'Production Type_Concert',\n",
    "       'Production Type_Original Production', 'Production Type_Premiere',\n",
    "       'Production Type_Production', 'Production Type_Revised Production',\n",
    "       'Production Type_Revival', 'Show Type_Ballet', 'Show Type_Dance',\n",
    "       'Show Type_Musical', 'Show Type_One-Acts', 'Show Type_Opera Bouffe',\n",
    "       'Show Type_Operetta', 'Show Type_Other', 'Show Type_Performance',\n",
    "       'Show Type_Play', 'Show Type_Play with Music', 'Show Type_Solo',\n",
    "       'Show Type_Vaudeville', 'scaled_Year', 'scaled_N People',\n",
    "       'scaled_N Performers', 'scaled_N Creative Team', 'scaled_theatre_id',\n",
    "       'scaled_Theatre Capacity']])\n",
    "\n",
    "# compute residuals\n",
    "y_validate['residual'] = y_validate['yhat_lm'] - y_validate['length_of_run']\n",
    "y_validate['baseline_residual'] = y_validate['yhat_baseline_mean'] - y_validate['length_of_run']\n",
    "\n",
    "#Use evaluate model to visualize the residuals\n",
    "evaluate.plot_residuals(y_validate.length_of_run, y_validate.yhat_lm)\n",
    "\n",
    "#Retrieve evaluation metrics for Linear Regression Model on in-sample data\n",
    "pd.DataFrame(evaluate.regression_errors(y_validate.length_of_run, y_validate.yhat_lm)).T"
   ]
  },
  {
   "cell_type": "markdown",
   "metadata": {},
   "source": [
    "**Takeaways:**<br>\n",
    "-The Linear regression model performs better than the baseline model<br>\n",
    "-But the RMSE is 330 and being off by 330 is almost a full year == LOTS of money in Broadway revenue terms.<br>\n",
    "-Must see if I can build a model that further reduces rmse"
   ]
  },
  {
   "cell_type": "markdown",
   "metadata": {},
   "source": [
    "---"
   ]
  },
  {
   "cell_type": "markdown",
   "metadata": {},
   "source": [
    "### Tweedie Regressor Model"
   ]
  },
  {
   "cell_type": "code",
   "execution_count": 30,
   "metadata": {},
   "outputs": [
    {
     "data": {
      "image/png": "[encoded data removed]",
      "text/plain": [
       "<Figure size 432x288 with 1 Axes>"
      ]
     },
     "metadata": {
      "needs_background": "light"
     },
     "output_type": "display_data"
    },
    {
     "data": {
      "text/html": [
       "<div>\n",
       "<style scoped>\n",
       "    .dataframe tbody tr th:only-of-type {\n",
       "        vertical-align: middle;\n",
       "    }\n",
       "\n",
       "    .dataframe tbody tr th {\n",
       "        vertical-align: top;\n",
       "    }\n",
       "\n",
       "    .dataframe thead th {\n",
       "        text-align: right;\n",
       "    }\n",
       "</style>\n",
       "<table border=\"1\" class=\"dataframe\">\n",
       "  <thead>\n",
       "    <tr style=\"text-align: right;\">\n",
       "      <th></th>\n",
       "      <th>sse</th>\n",
       "      <th>ess</th>\n",
       "      <th>tss</th>\n",
       "      <th>mse</th>\n",
       "      <th>rmse</th>\n",
       "      <th>r^2</th>\n",
       "    </tr>\n",
       "  </thead>\n",
       "  <tbody>\n",
       "    <tr>\n",
       "      <th>0</th>\n",
       "      <td>2.778172e+08</td>\n",
       "      <td>6.709988e+07</td>\n",
       "      <td>3.433513e+08</td>\n",
       "      <td>109076.248329</td>\n",
       "      <td>330.266935</td>\n",
       "      <td>0.195426</td>\n",
       "    </tr>\n",
       "  </tbody>\n",
       "</table>\n",
       "</div>"
      ],
      "text/plain": [
       "            sse           ess           tss            mse        rmse  \\\n",
       "0  2.778172e+08  6.709988e+07  3.433513e+08  109076.248329  330.266935   \n",
       "\n",
       "        r^2  \n",
       "0  0.195426  "
      ]
     },
     "execution_count": 30,
     "metadata": {},
     "output_type": "execute_result"
    }
   ],
   "source": [
    "# create the model object\n",
    "glm = TweedieRegressor(power=0, alpha=0)\n",
    "\n",
    "# fit the model to our training data. We must specify the column in y_train, \n",
    "# since we have converted it to a dataframe from a series! \n",
    "glm.fit(X_train[['is_revival', 'Production Type_Concert',\n",
    "       'Production Type_Original Production', 'Production Type_Premiere',\n",
    "       'Production Type_Production', 'Production Type_Revised Production',\n",
    "       'Production Type_Revival', 'Show Type_Ballet', 'Show Type_Dance',\n",
    "       'Show Type_Musical', 'Show Type_One-Acts', 'Show Type_Opera Bouffe',\n",
    "       'Show Type_Operetta', 'Show Type_Other', 'Show Type_Performance',\n",
    "       'Show Type_Play', 'Show Type_Play with Music', 'Show Type_Solo',\n",
    "       'Show Type_Vaudeville', 'scaled_Year', 'scaled_N People',\n",
    "       'scaled_N Performers', 'scaled_N Creative Team', 'scaled_theatre_id',\n",
    "       'scaled_Theatre Capacity']], y_train.length_of_run)\n",
    "\n",
    "# predict train\n",
    "y_train['yhat_glm'] = glm.predict(X_train[['is_revival', 'Production Type_Concert',\n",
    "       'Production Type_Original Production', 'Production Type_Premiere',\n",
    "       'Production Type_Production', 'Production Type_Revised Production',\n",
    "       'Production Type_Revival', 'Show Type_Ballet', 'Show Type_Dance',\n",
    "       'Show Type_Musical', 'Show Type_One-Acts', 'Show Type_Opera Bouffe',\n",
    "       'Show Type_Operetta', 'Show Type_Other', 'Show Type_Performance',\n",
    "       'Show Type_Play', 'Show Type_Play with Music', 'Show Type_Solo',\n",
    "       'Show Type_Vaudeville', 'scaled_Year', 'scaled_N People',\n",
    "       'scaled_N Performers', 'scaled_N Creative Team', 'scaled_theatre_id',\n",
    "       'scaled_Theatre Capacity']])\n",
    "\n",
    "#Use evaluate model to visualize the residuals\n",
    "evaluate.plot_residuals(y_train.length_of_run, y_train.yhat_glm)\n",
    "\n",
    "#How does the GLM model perform on in-sample data?\n",
    "pd.DataFrame(evaluate.regression_errors(y_train.length_of_run, y_train.yhat_glm)).T"
   ]
  },
  {
   "cell_type": "markdown",
   "metadata": {},
   "source": [
    "**Takeaways**<br>\n",
    "- GLM model performbs better than baseline with an error of 333 days\n",
    "- 18 percent of the variance can be explained by this model"
   ]
  },
  {
   "cell_type": "code",
   "execution_count": 31,
   "metadata": {},
   "outputs": [
    {
     "data": {
      "image/png": "[encoded data removed]",
      "text/plain": [
       "<Figure size 432x288 with 1 Axes>"
      ]
     },
     "metadata": {
      "needs_background": "light"
     },
     "output_type": "display_data"
    },
    {
     "data": {
      "text/html": [
       "<div>\n",
       "<style scoped>\n",
       "    .dataframe tbody tr th:only-of-type {\n",
       "        vertical-align: middle;\n",
       "    }\n",
       "\n",
       "    .dataframe tbody tr th {\n",
       "        vertical-align: top;\n",
       "    }\n",
       "\n",
       "    .dataframe thead th {\n",
       "        text-align: right;\n",
       "    }\n",
       "</style>\n",
       "<table border=\"1\" class=\"dataframe\">\n",
       "  <thead>\n",
       "    <tr style=\"text-align: right;\">\n",
       "      <th></th>\n",
       "      <th>sse</th>\n",
       "      <th>ess</th>\n",
       "      <th>tss</th>\n",
       "      <th>mse</th>\n",
       "      <th>rmse</th>\n",
       "      <th>r^2</th>\n",
       "    </tr>\n",
       "  </thead>\n",
       "  <tbody>\n",
       "    <tr>\n",
       "      <th>0</th>\n",
       "      <td>7.890212e+07</td>\n",
       "      <td>2.527368e+07</td>\n",
       "      <td>9.001692e+07</td>\n",
       "      <td>72254.68542</td>\n",
       "      <td>268.802317</td>\n",
       "      <td>0.280766</td>\n",
       "    </tr>\n",
       "  </tbody>\n",
       "</table>\n",
       "</div>"
      ],
      "text/plain": [
       "            sse           ess           tss          mse        rmse       r^2\n",
       "0  7.890212e+07  2.527368e+07  9.001692e+07  72254.68542  268.802317  0.280766"
      ]
     },
     "execution_count": 31,
     "metadata": {},
     "output_type": "execute_result"
    }
   ],
   "source": [
    "# predict validate\n",
    "y_validate['yhat_glm'] = glm.predict(X_validate[['is_revival', 'Production Type_Concert',\n",
    "       'Production Type_Original Production', 'Production Type_Premiere',\n",
    "       'Production Type_Production', 'Production Type_Revised Production',\n",
    "       'Production Type_Revival', 'Show Type_Ballet', 'Show Type_Dance',\n",
    "       'Show Type_Musical', 'Show Type_One-Acts', 'Show Type_Opera Bouffe',\n",
    "       'Show Type_Operetta', 'Show Type_Other', 'Show Type_Performance',\n",
    "       'Show Type_Play', 'Show Type_Play with Music', 'Show Type_Solo',\n",
    "       'Show Type_Vaudeville', 'scaled_Year', 'scaled_N People',\n",
    "       'scaled_N Performers', 'scaled_N Creative Team', 'scaled_theatre_id',\n",
    "       'scaled_Theatre Capacity']])\n",
    "\n",
    "#Use evaluate model to visualize the residuals\n",
    "evaluate.plot_residuals(y_validate.length_of_run, y_validate.yhat_glm)\n",
    "\n",
    "#How does the GLM model perform on in-sample data?\n",
    "pd.DataFrame(evaluate.regression_errors(y_validate.length_of_run, y_validate.yhat_glm)).T"
   ]
  },
  {
   "cell_type": "markdown",
   "metadata": {},
   "source": [
    "**Takeaways:**"
   ]
  },
  {
   "cell_type": "markdown",
   "metadata": {},
   "source": [
    "---"
   ]
  },
  {
   "cell_type": "markdown",
   "metadata": {},
   "source": [
    "### Lassor Lars Modeling"
   ]
  },
  {
   "cell_type": "code",
   "execution_count": 32,
   "metadata": {},
   "outputs": [
    {
     "data": {
      "image/png": "[encoded data removed]",
      "text/plain": [
       "<Figure size 432x288 with 1 Axes>"
      ]
     },
     "metadata": {
      "needs_background": "light"
     },
     "output_type": "display_data"
    },
    {
     "data": {
      "text/plain": [
       "sse     3.006071e+08\n",
       "ess     1.997655e+07\n",
       "tss     3.433513e+08\n",
       "mse     1.180240e+05\n",
       "rmse    3.435462e+02\n",
       "r^2     5.818108e-02\n",
       "dtype: float64"
      ]
     },
     "execution_count": 32,
     "metadata": {},
     "output_type": "execute_result"
    }
   ],
   "source": [
    "# create the model object\n",
    "lars = LassoLars(alpha=1.0)\n",
    "\n",
    "# fit the model to our training data. We must specify the column in y_train, \n",
    "# since we have converted it to a dataframe from a series! \n",
    "lars.fit(X_train[['is_revival', 'Production Type_Concert',\n",
    "       'Production Type_Original Production', 'Production Type_Premiere',\n",
    "       'Production Type_Production', 'Production Type_Revised Production',\n",
    "       'Production Type_Revival', 'Show Type_Ballet', 'Show Type_Dance',\n",
    "       'Show Type_Musical', 'Show Type_One-Acts', 'Show Type_Opera Bouffe',\n",
    "       'Show Type_Operetta', 'Show Type_Other', 'Show Type_Performance',\n",
    "       'Show Type_Play', 'Show Type_Play with Music', 'Show Type_Solo',\n",
    "       'Show Type_Vaudeville', 'scaled_Year', 'scaled_N People',\n",
    "       'scaled_N Performers', 'scaled_N Creative Team', 'scaled_theatre_id',\n",
    "       'scaled_Theatre Capacity']], y_train.length_of_run)\n",
    "\n",
    "# predict train\n",
    "y_train['yhat_lars'] = lars.predict(X_train[['is_revival', 'Production Type_Concert',\n",
    "       'Production Type_Original Production', 'Production Type_Premiere',\n",
    "       'Production Type_Production', 'Production Type_Revised Production',\n",
    "       'Production Type_Revival', 'Show Type_Ballet', 'Show Type_Dance',\n",
    "       'Show Type_Musical', 'Show Type_One-Acts', 'Show Type_Opera Bouffe',\n",
    "       'Show Type_Operetta', 'Show Type_Other', 'Show Type_Performance',\n",
    "       'Show Type_Play', 'Show Type_Play with Music', 'Show Type_Solo',\n",
    "       'Show Type_Vaudeville', 'scaled_Year', 'scaled_N People',\n",
    "       'scaled_N Performers', 'scaled_N Creative Team', 'scaled_theatre_id',\n",
    "       'scaled_Theatre Capacity']])\n",
    "\n",
    "#Use evaluate model to visualize the residuals\n",
    "evaluate.plot_residuals(y_train.length_of_run, y_train.yhat_lars)\n",
    "\n",
    "#Retrieve evaluation metrics for Lasso + Lars Model on in-sample data\n",
    "evaluate.regression_errors(y_train.length_of_run, y_train.yhat_lars)"
   ]
  },
  {
   "cell_type": "code",
   "execution_count": 33,
   "metadata": {},
   "outputs": [
    {
     "data": {
      "image/png": "[encoded data removed]",
      "text/plain": [
       "<Figure size 432x288 with 1 Axes>"
      ]
     },
     "metadata": {
      "needs_background": "light"
     },
     "output_type": "display_data"
    },
    {
     "data": {
      "text/plain": [
       "sse     7.912338e+07\n",
       "ess     7.879250e+06\n",
       "tss     9.001692e+07\n",
       "mse     7.245731e+04\n",
       "rmse    2.691790e+02\n",
       "r^2     8.753077e-02\n",
       "dtype: float64"
      ]
     },
     "execution_count": 33,
     "metadata": {},
     "output_type": "execute_result"
    }
   ],
   "source": [
    "# predict validate\n",
    "y_validate['yhat_lars'] = lars.predict(X_validate[['is_revival', 'Production Type_Concert',\n",
    "       'Production Type_Original Production', 'Production Type_Premiere',\n",
    "       'Production Type_Production', 'Production Type_Revised Production',\n",
    "       'Production Type_Revival', 'Show Type_Ballet', 'Show Type_Dance',\n",
    "       'Show Type_Musical', 'Show Type_One-Acts', 'Show Type_Opera Bouffe',\n",
    "       'Show Type_Operetta', 'Show Type_Other', 'Show Type_Performance',\n",
    "       'Show Type_Play', 'Show Type_Play with Music', 'Show Type_Solo',\n",
    "       'Show Type_Vaudeville', 'scaled_Year', 'scaled_N People',\n",
    "       'scaled_N Performers', 'scaled_N Creative Team', 'scaled_theatre_id',\n",
    "       'scaled_Theatre Capacity']])\n",
    "\n",
    "#Use evaluate model to visualize the residuals\n",
    "evaluate.plot_residuals(y_validate.length_of_run, y_validate.yhat_lars)\n",
    "\n",
    "#Retrieve evaluation metrics for Lasso + Lars Model on out-of-sample data\n",
    "evaluate.regression_errors(y_validate.length_of_run, y_validate.yhat_lars)"
   ]
  },
  {
   "cell_type": "markdown",
   "metadata": {},
   "source": [
    "**Takeaways:**"
   ]
  },
  {
   "cell_type": "code",
   "execution_count": null,
   "metadata": {},
   "outputs": [],
   "source": []
  },
  {
   "cell_type": "code",
   "execution_count": 34,
   "metadata": {},
   "outputs": [
    {
     "data": {
      "image/png": "[encoded data removed]",
      "text/plain": [
       "<Figure size 432x288 with 1 Axes>"
      ]
     },
     "metadata": {
      "needs_background": "light"
     },
     "output_type": "display_data"
    },
    {
     "data": {
      "text/plain": [
       "sse     3.006071e+08\n",
       "ess     1.997655e+07\n",
       "tss     3.433513e+08\n",
       "mse     1.180240e+05\n",
       "rmse    3.435462e+02\n",
       "r^2     5.818108e-02\n",
       "dtype: float64"
      ]
     },
     "execution_count": 34,
     "metadata": {},
     "output_type": "execute_result"
    }
   ],
   "source": [
    "# create the model object\n",
    "lars = LassoLars(alpha=1.0)\n",
    "\n",
    "# fit the model to our training data. We must specify the column in y_train, \n",
    "# since we have converted it to a dataframe from a series! \n",
    "lars.fit(X_train[['Show Type_Musical', 'Show Type_Play', 'scaled_N People', \n",
    "                  'scaled_N Performers', 'scaled_N Creative Team']], y_train.length_of_run)\n",
    "\n",
    "# predict train\n",
    "y_train['yhat_lars_2'] = lars.predict(X_train[['Show Type_Musical', 'Show Type_Play', \n",
    "                                             'scaled_N People', 'scaled_N Performers', 'scaled_N Creative Team']])\n",
    "\n",
    "#Use evaluate model to visualize the residuals\n",
    "evaluate.plot_residuals(y_train.length_of_run, y_train.yhat_lars_2)\n",
    "\n",
    "#Retrieve evaluation metrics for Lasso + Lars Model on in-sample data\n",
    "evaluate.regression_errors(y_train.length_of_run, y_train.yhat_lars_2)"
   ]
  },
  {
   "cell_type": "code",
   "execution_count": null,
   "metadata": {},
   "outputs": [],
   "source": []
  }
 ],
 "metadata": {
  "kernelspec": {
   "display_name": "Python 3",
   "language": "python",
   "name": "python3"
  },
  "language_info": {
   "codemirror_mode": {
    "name": "ipython",
    "version": 3
   },
   "file_extension": ".py",
   "mimetype": "text/x-python",
   "name": "python",
   "nbconvert_exporter": "python",
   "pygments_lexer": "ipython3",
   "version": "3.8.5"
  }
 },
 "nbformat": 4,
 "nbformat_minor": 4
}
